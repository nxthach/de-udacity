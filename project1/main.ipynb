{
 "cells": [
  {
   "cell_type": "markdown",
   "metadata": {
    "editable": true
   },
   "source": [
    "### Initialize database schema\n",
    "\n",
    "Create the database: \n",
    "- Sparkifydb\n",
    "\n",
    "Create tables:\n",
    "- songplays\n",
    "- users\n",
    "- songs\n",
    "- artists\n",
    "- time"
   ]
  },
  {
   "cell_type": "code",
   "execution_count": 1,
   "metadata": {
    "editable": true
   },
   "outputs": [],
   "source": [
    "%run -i 'create_tables.py'"
   ]
  },
  {
   "cell_type": "markdown",
   "metadata": {
    "editable": true
   },
   "source": [
    "### Run ELT\n",
    "\n",
    "Load data from the dataset (song data, log data) and insert into database `Sparkifydb`\n"
   ]
  },
  {
   "cell_type": "code",
   "execution_count": 2,
   "metadata": {
    "editable": true
   },
   "outputs": [
    {
     "name": "stdout",
     "output_type": "stream",
     "text": [
      "74 files found in data/song_data\n",
      "1/74 files processed.\n",
      "2/74 files processed.\n",
      "3/74 files processed.\n",
      "4/74 files processed.\n",
      "5/74 files processed.\n",
      "6/74 files processed.\n",
      "7/74 files processed.\n",
      "8/74 files processed.\n",
      "9/74 files processed.\n",
      "10/74 files processed.\n",
      "11/74 files processed.\n",
      "12/74 files processed.\n",
      "13/74 files processed.\n",
      "14/74 files processed.\n",
      "15/74 files processed.\n",
      "16/74 files processed.\n",
      "17/74 files processed.\n",
      "18/74 files processed.\n",
      "19/74 files processed.\n",
      "20/74 files processed.\n",
      "21/74 files processed.\n",
      "22/74 files processed.\n",
      "23/74 files processed.\n",
      "24/74 files processed.\n",
      "25/74 files processed.\n",
      "26/74 files processed.\n",
      "27/74 files processed.\n",
      "28/74 files processed.\n",
      "29/74 files processed.\n",
      "30/74 files processed.\n",
      "31/74 files processed.\n",
      "32/74 files processed.\n",
      "33/74 files processed.\n",
      "34/74 files processed.\n",
      "35/74 files processed.\n",
      "36/74 files processed.\n",
      "37/74 files processed.\n",
      "38/74 files processed.\n",
      "39/74 files processed.\n",
      "40/74 files processed.\n",
      "41/74 files processed.\n",
      "42/74 files processed.\n",
      "43/74 files processed.\n",
      "44/74 files processed.\n",
      "45/74 files processed.\n",
      "46/74 files processed.\n",
      "47/74 files processed.\n",
      "48/74 files processed.\n",
      "49/74 files processed.\n",
      "50/74 files processed.\n",
      "51/74 files processed.\n",
      "52/74 files processed.\n",
      "53/74 files processed.\n",
      "54/74 files processed.\n",
      "55/74 files processed.\n",
      "56/74 files processed.\n",
      "57/74 files processed.\n",
      "58/74 files processed.\n",
      "59/74 files processed.\n",
      "60/74 files processed.\n",
      "61/74 files processed.\n",
      "62/74 files processed.\n",
      "63/74 files processed.\n",
      "64/74 files processed.\n",
      "65/74 files processed.\n",
      "66/74 files processed.\n",
      "67/74 files processed.\n",
      "68/74 files processed.\n",
      "69/74 files processed.\n",
      "70/74 files processed.\n",
      "71/74 files processed.\n",
      "72/74 files processed.\n",
      "73/74 files processed.\n",
      "74/74 files processed.\n",
      "34 files found in data/log_data\n",
      "1/34 files processed.\n",
      "2/34 files processed.\n",
      "3/34 files processed.\n",
      "4/34 files processed.\n",
      "5/34 files processed.\n",
      "6/34 files processed.\n",
      "7/34 files processed.\n",
      "8/34 files processed.\n",
      "9/34 files processed.\n",
      "10/34 files processed.\n",
      "11/34 files processed.\n",
      "12/34 files processed.\n",
      "13/34 files processed.\n",
      "14/34 files processed.\n",
      "15/34 files processed.\n",
      "16/34 files processed.\n",
      "17/34 files processed.\n",
      "18/34 files processed.\n",
      "19/34 files processed.\n",
      "20/34 files processed.\n",
      "21/34 files processed.\n",
      "22/34 files processed.\n",
      "23/34 files processed.\n",
      "24/34 files processed.\n",
      "25/34 files processed.\n",
      "26/34 files processed.\n",
      "27/34 files processed.\n",
      "28/34 files processed.\n",
      "29/34 files processed.\n",
      "30/34 files processed.\n",
      "31/34 files processed.\n",
      "32/34 files processed.\n",
      "33/34 files processed.\n",
      "34/34 files processed.\n"
     ]
    }
   ],
   "source": [
    "%run -i 'etl.py'"
   ]
  }
 ],
 "metadata": {
  "kernelspec": {
   "display_name": "Python 3",
   "language": "python",
   "name": "python3"
  },
  "language_info": {
   "codemirror_mode": {
    "name": "ipython",
    "version": 3
   },
   "file_extension": ".py",
   "mimetype": "text/x-python",
   "name": "python",
   "nbconvert_exporter": "python",
   "pygments_lexer": "ipython3",
   "version": "3.6.3"
  }
 },
 "nbformat": 4,
 "nbformat_minor": 4
}
