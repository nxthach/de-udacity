{
 "cells": [
  {
   "cell_type": "markdown",
   "metadata": {
    "editable": true
   },
   "source": [
    "### Create the keyspace:\n",
    "\n",
    "- sparkifydb\n",
    "\n",
    "### Create tables\n",
    " - song_session \n",
    " - artist_session  \n",
    " - song_user"
   ]
  },
  {
   "cell_type": "code",
   "execution_count": 5,
   "metadata": {
    "editable": true
   },
   "outputs": [
    {
     "name": "stdout",
     "output_type": "stream",
     "text": [
      "Drop tables successfully.\n",
      "Create tables successfully.\n"
     ]
    }
   ],
   "source": [
    "%run -i 'create_tables.py'"
   ]
  },
  {
   "cell_type": "markdown",
   "metadata": {
    "editable": true
   },
   "source": [
    "### Proccess data\n",
    "\n",
    "Load data from the dataset and insert into database `sparkifydb`"
   ]
  },
  {
   "cell_type": "code",
   "execution_count": 6,
   "metadata": {
    "editable": true
   },
   "outputs": [
    {
     "name": "stdout",
     "output_type": "stream",
     "text": [
      "Start write data to event_datafile_new.csv\n",
      "End write data to event_datafile_new.csv with total record 6831 \n",
      "\n",
      "Starting to process data...\n",
      "The 6831 data inserted successfully into song_session table.\n",
      "\n",
      "The 6831 data inserted successfully into artist_session table.\n",
      "\n",
      "The 6831 data inserted successfully into song_user table.\n",
      "\n",
      "All data was processed.\n"
     ]
    }
   ],
   "source": [
    "%run -i 'etl.py'"
   ]
  }
 ],
 "metadata": {
  "kernelspec": {
   "display_name": "Python 3",
   "language": "python",
   "name": "python3"
  },
  "language_info": {
   "codemirror_mode": {
    "name": "ipython",
    "version": 3
   },
   "file_extension": ".py",
   "mimetype": "text/x-python",
   "name": "python",
   "nbconvert_exporter": "python",
   "pygments_lexer": "ipython3",
   "version": "3.6.3"
  }
 },
 "nbformat": 4,
 "nbformat_minor": 4
}
