{
 "cells": [
  {
   "cell_type": "markdown",
   "metadata": {
    "editable": true
   },
   "source": [
    "# Test the data was proccessed"
   ]
  },
  {
   "cell_type": "code",
   "execution_count": 1,
   "metadata": {
    "editable": true
   },
   "outputs": [],
   "source": [
    "# Import Python packages \n",
    "import pandas as pd\n",
    "import cassandra\n",
    "import re\n",
    "import os\n",
    "import glob\n",
    "import numpy as np\n",
    "import json\n",
    "import csv"
   ]
  },
  {
   "cell_type": "markdown",
   "metadata": {
    "editable": true
   },
   "source": [
    "### Connect to Apache Cassandra "
   ]
  },
  {
   "cell_type": "code",
   "execution_count": 2,
   "metadata": {
    "editable": true
   },
   "outputs": [],
   "source": [
    "# Connect to Apache Cassandra \n",
    "from cassandra.cluster import Cluster\n",
    "try: \n",
    "    # Connect to local Apache Cassandra instance.\n",
    "    cluster = Cluster(['127.0.0.1'])\n",
    "    # Set session to execute queries.\n",
    "    session = cluster.connect()\n",
    "\n",
    "except Exception as e:\n",
    "    print(e)\n",
    "\n",
    "# Set KEYSPACE\n",
    "try:\n",
    "    session.set_keyspace('sparkifydb')\n",
    "except Exception as e:\n",
    "    print(e)"
   ]
  },
  {
   "cell_type": "markdown",
   "metadata": {
    "editable": true
   },
   "source": [
    "### Select first 5 rows on table song_session"
   ]
  },
  {
   "cell_type": "code",
   "execution_count": 3,
   "metadata": {
    "editable": true
   },
   "outputs": [
    {
     "name": "stdout",
     "output_type": "stream",
     "text": [
      "23 , 0 , Regina Spektor , 191.08526611328125 , The Calculation (Album Version)\n",
      "23 , 1 , Octopus Project , 250.95791625976562 , All Of The Champs That Ever Lived\n",
      "23 , 2 , Tegan And Sara , 180.06158447265625 , So Jealous\n",
      "23 , 3 , Dragonette , 153.39056396484375 , Okay Dolores\n",
      "23 , 4 , Lil Wayne / Eminem , 229.58975219726562 , Drop The World\n"
     ]
    }
   ],
   "source": [
    "query = \"SELECT * FROM song_session LIMIT 5\"\n",
    "try:\n",
    "    songs = session.execute(query)\n",
    "except Exception as e:\n",
    "    print(e)\n",
    "\n",
    "for row in songs:\n",
    "    print (row.session_id, \",\", row.item_in_session, \",\", row.artist, \",\", row.length, \",\", row.song)"
   ]
  },
  {
   "cell_type": "markdown",
   "metadata": {
    "editable": true
   },
   "source": [
    "### Select first 5 rows on table artist_session"
   ]
  },
  {
   "cell_type": "code",
   "execution_count": 4,
   "metadata": {
    "editable": true
   },
   "outputs": [
    {
     "name": "stdout",
     "output_type": "stream",
     "text": [
      "58 , 768 , System of a Down , Sad Statue , 0 , Emily , Benson\n",
      "58 , 768 , Ghostland Observatory , Stranger Lover , 1 , Emily , Benson\n",
      "58 , 768 , Evergreen Terrace , Zero , 2 , Emily , Benson\n",
      "85 , 776 , Deftones , Head Up (LP Version) , 2 , Kinsley , Young\n",
      "85 , 776 , The Notorious B.I.G. , Playa Hater (Amended Version) , 3 , Kinsley , Young\n"
     ]
    }
   ],
   "source": [
    "query = \"SELECT * FROM artist_session LIMIT 5\"\n",
    "try:\n",
    "    songs = session.execute(query)\n",
    "except Exception as e:\n",
    "    print(e)\n",
    "\n",
    "for row in songs:\n",
    "    print (row.user_id, \",\", row.session_id, \",\", row.artist, \",\", row.song, \",\", row.item_in_session, \",\", row.first_name, \",\", row.last_name)"
   ]
  },
  {
   "cell_type": "markdown",
   "metadata": {
    "editable": true
   },
   "source": [
    "### Select first 5 rows on table song_user"
   ]
  },
  {
   "cell_type": "code",
   "execution_count": 5,
   "metadata": {
    "editable": true
   },
   "outputs": [
    {
     "name": "stdout",
     "output_type": "stream",
     "text": [
      "Wonder What's Next , 49 , Chloe , Cuevas\n",
      "In The Dragon's Den , 49 , Chloe , Cuevas\n",
      "Too Tough (1994 Digital Remaster) , 44 , Aleena , Kirby\n",
      "Rio De Janeiro Blue (Album Version) , 49 , Chloe , Cuevas\n",
      "My Place , 15 , Lily , Koch\n"
     ]
    }
   ],
   "source": [
    "query = \"SELECT * FROM song_user LIMIT 5\"\n",
    "try:\n",
    "    songs = session.execute(query)\n",
    "except Exception as e:\n",
    "    print(e)\n",
    "\n",
    "\n",
    "for row in songs:\n",
    "    print (row.song, \",\", row.user_id, \",\", row.first_name, \",\", row.last_name)"
   ]
  },
  {
   "cell_type": "markdown",
   "metadata": {
    "editable": true
   },
   "source": [
    "### Query-1: Give me the artist, song title and song's length in the music app history that was heard during sessionId = 338, and itemInSession = 4¶"
   ]
  },
  {
   "cell_type": "code",
   "execution_count": 6,
   "metadata": {
    "editable": true
   },
   "outputs": [
    {
     "name": "stdout",
     "output_type": "stream",
     "text": [
      "Faithless Music Matters (Mark Knight Dub) 495.30731201171875\n"
     ]
    }
   ],
   "source": [
    "query = \"SELECT artist, song, length FROM song_session WHERE session_id = 338 AND item_in_session = 4\"\n",
    "\n",
    "try:\n",
    "    songs = session.execute(query)\n",
    "except Exception as e:\n",
    "    print(e)\n",
    "\n",
    "for row in songs:\n",
    "    print (row.artist, row.song, row.length)    "
   ]
  },
  {
   "cell_type": "markdown",
   "metadata": {
    "editable": true
   },
   "source": [
    "### Query-2: Give me only the following: name of artist, song (sorted by itemInSession) and user (first and last name) for userid = 10, sessionid = 182"
   ]
  },
  {
   "cell_type": "code",
   "execution_count": 7,
   "metadata": {
    "editable": true
   },
   "outputs": [
    {
     "name": "stdout",
     "output_type": "stream",
     "text": [
      "Down To The Bone Keep On Keepin' On Sylvie Cruz\n",
      "Three Drives Greece 2000 Sylvie Cruz\n",
      "Sebastien Tellier Kilometer Sylvie Cruz\n",
      "Lonnie Gordon Catch You Baby (Steve Pitron & Max Sanna Radio Edit) Sylvie Cruz\n"
     ]
    }
   ],
   "source": [
    "query = \"SELECT artist, song, first_name, last_name FROM artist_session WHERE user_id = 10 AND session_id = 182\"\n",
    "try:\n",
    "    artists = session.execute(query)\n",
    "except Exception as e:\n",
    "    print(e)\n",
    "\n",
    "for row in artists:\n",
    "    print (row.artist, row.song, row.first_name, row.last_name)    "
   ]
  },
  {
   "cell_type": "markdown",
   "metadata": {
    "editable": true
   },
   "source": [
    "### Query-3: Give me every user name (first and last) in my music app history who listened to the song 'All Hands Against His Own'"
   ]
  },
  {
   "cell_type": "code",
   "execution_count": 8,
   "metadata": {
    "editable": true
   },
   "outputs": [
    {
     "name": "stdout",
     "output_type": "stream",
     "text": [
      "Jacqueline Lynch\n",
      "Tegan Levine\n",
      "Sara Johnson\n"
     ]
    }
   ],
   "source": [
    "query = \"SELECT first_name, last_name FROM song_user WHERE song = 'All Hands Against His Own'\"\n",
    "try:\n",
    "    users = session.execute(query)\n",
    "except Exception as e:\n",
    "    print(e)\n",
    "\n",
    "for row in users:\n",
    "    print (row.first_name, row.last_name)"
   ]
  },
  {
   "cell_type": "code",
   "execution_count": null,
   "metadata": {
    "editable": true
   },
   "outputs": [],
   "source": []
  }
 ],
 "metadata": {
  "kernelspec": {
   "display_name": "Python 3",
   "language": "python",
   "name": "python3"
  },
  "language_info": {
   "codemirror_mode": {
    "name": "ipython",
    "version": 3
   },
   "file_extension": ".py",
   "mimetype": "text/x-python",
   "name": "python",
   "nbconvert_exporter": "python",
   "pygments_lexer": "ipython3",
   "version": "3.6.3"
  }
 },
 "nbformat": 4,
 "nbformat_minor": 4
}
